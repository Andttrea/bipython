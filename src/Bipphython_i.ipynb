{
 "cells": [
  {
   "cell_type": "code",
   "execution_count": 1,
   "id": "1165dcea",
   "metadata": {},
   "outputs": [
    {
     "data": {
      "text/plain": [
       "Seq('ATGCGATCGAGC')"
      ]
     },
     "execution_count": 1,
     "metadata": {},
     "output_type": "execute_result"
    }
   ],
   "source": [
    "import Bio.Seq\n",
    "seqobj = Bio.Seq.Seq('ATGCGATCGAGC')\n",
    "seqobj\n"
   ]
  },
  {
   "cell_type": "code",
   "execution_count": 2,
   "id": "61a749fb",
   "metadata": {},
   "outputs": [
    {
     "name": "stdout",
     "output_type": "stream",
     "text": [
      "ATGCGATCGAGC  tiene  12  nucleotidos\n"
     ]
    }
   ],
   "source": [
    "#se puede regresar a tipo string]\n",
    "\n",
    "seq_str = str(seqobj)  # convertir con str()\n",
    "print(seq_str,' tiene ',len(seq_str),' nucleotidos')"
   ]
  },
  {
   "cell_type": "code",
   "execution_count": 6,
   "id": "2223e9a0",
   "metadata": {},
   "outputs": [
    {
     "name": "stdout",
     "output_type": "stream",
     "text": [
      "TTGCGATCGAGC\n"
     ]
    }
   ],
   "source": [
    "from Bio.Seq import MutableSeq\n",
    "mut_seq = MutableSeq(seqobj) # esto va a hacer que el objeto sea mutable\n",
    "mut_seq[0] = 'T'\n",
    "print(mut_seq)\n",
    "\n"
   ]
  },
  {
   "cell_type": "code",
   "execution_count": null,
   "id": "259a6b1f",
   "metadata": {},
   "outputs": [
    {
     "data": {
      "text/plain": [
       "'gctcgatcgcat'"
      ]
     },
     "execution_count": 9,
     "metadata": {},
     "output_type": "execute_result"
    }
   ],
   "source": [
    "#Para encontrar la secuencia complementaria \n",
    "#Esto lo hicimos con el string de las secuecias\n",
    "seq_str = seq_str[::-1] #invertimos la secuencia\n",
    "seq_str = seq_str.replace('A','t') #reemplazamos A por t\n",
    "seq_str = seq_str.replace('T','a') #reemplazamos T por a\n",
    "seq_str = seq_str.replace('C','g') #reemplazamos C por g\n",
    "seq_str = seq_str.replace('G','c') #reemplazamos G por c\n",
    "seq_str"
   ]
  },
  {
   "cell_type": "code",
   "execution_count": null,
   "id": "bfa93b01",
   "metadata": {},
   "outputs": [
    {
     "data": {
      "text/plain": [
       "Seq('GCTCGATCGCAT')"
      ]
     },
     "execution_count": 16,
     "metadata": {},
     "output_type": "execute_result"
    }
   ],
   "source": [
    "#Ahora vamos a hacerlo con el objeto ya que ya podemos modificarlo y tiene metodos\n",
    "seq_comp =seqobj.complement() #metodo complementario\n"
   ]
  },
  {
   "cell_type": "code",
   "execution_count": 17,
   "id": "d35116d0",
   "metadata": {},
   "outputs": [
    {
     "data": {
      "text/plain": [
       "Seq('GCTCGATCGCAT')"
      ]
     },
     "execution_count": 17,
     "metadata": {},
     "output_type": "execute_result"
    }
   ],
   "source": [
    "seqobj.reverse_complement() #metodo reverse complementario"
   ]
  },
  {
   "cell_type": "code",
   "execution_count": 19,
   "id": "24ece6e4",
   "metadata": {},
   "outputs": [
    {
     "name": "stdout",
     "output_type": "stream",
     "text": [
      "AUGCGAUCGAGC\n"
     ]
    }
   ],
   "source": [
    "rna = seqobj.transcribe() \n",
    "print(rna)"
   ]
  },
  {
   "cell_type": "code",
   "execution_count": 20,
   "id": "0ebda7a9",
   "metadata": {},
   "outputs": [
    {
     "name": "stdout",
     "output_type": "stream",
     "text": [
      "ATGCGATCGAGC\n"
     ]
    }
   ],
   "source": [
    "print(rna.back_transcribe()) #regresa a ADN"
   ]
  },
  {
   "cell_type": "code",
   "execution_count": 23,
   "id": "1a8efe7d",
   "metadata": {},
   "outputs": [
    {
     "data": {
      "text/plain": [
       "Seq('ATG')"
      ]
     },
     "execution_count": 23,
     "metadata": {},
     "output_type": "execute_result"
    }
   ],
   "source": [
    "#Para ejemplo extraeremos el primer codón [0:3]\n",
    "from Bio.Seq import Seq\n",
    "seqobj = Seq('ATGCGATCGAGC')\n",
    "seqobj[0:3]"
   ]
  }
 ],
 "metadata": {
  "kernelspec": {
   "display_name": "Python 3",
   "language": "python",
   "name": "python3"
  },
  "language_info": {
   "codemirror_mode": {
    "name": "ipython",
    "version": 3
   },
   "file_extension": ".py",
   "mimetype": "text/x-python",
   "name": "python",
   "nbconvert_exporter": "python",
   "pygments_lexer": "ipython3",
   "version": "3.12.3"
  }
 },
 "nbformat": 4,
 "nbformat_minor": 5
}
